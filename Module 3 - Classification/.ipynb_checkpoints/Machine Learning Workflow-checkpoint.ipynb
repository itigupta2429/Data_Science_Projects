{
 "cells": [
  {
   "cell_type": "markdown",
   "metadata": {},
   "source": [
    "# <center> Introduction to Machine Learning Workflows </center>\n",
    "<center>by: Nicole Woodland, P. Eng. for RoboGarden Inc. </center>\n",
    "\n",
    "---"
   ]
  },
  {
   "cell_type": "markdown",
   "metadata": {},
   "source": [
    "### All Machine Learning projects have a similar workflow. The process described in this image by O'Reilly shows the order of steps in the Machine Learning workflow."
   ]
  },
  {
   "cell_type": "markdown",
   "metadata": {},
   "source": [
    "<img src = \"https://www.oreilly.com/api/v2/epubs/9781789138900/files/assets/14e0c1b0-4330-4fa7-88c3-80001e91d063.png\">"
   ]
  },
  {
   "cell_type": "markdown",
   "metadata": {},
   "source": [
    "In slightly more detail, here is the order you will carrying out all your machine learning projects in this course:\n",
    "\n",
    "\t1.  Obtain data\n",
    "\t2.  Perform Preprocessing\n",
    "\t\t  a. Cleaning\n",
    "\t\t  b. Encoding\n",
    "\t3.  Exploratory Data Analysis\n",
    "\t4.  Identify Predictive Label & Dimensionality Reduction\n",
    "    5.  Data Scaling and Create Training & Testing Sets\n",
    "\t6.  Model Selection\n",
    "\t7.  Model Training\n",
    "\t8.  Model Evaluation\n",
    "\t9.  Model Optimization and Hyperparamter Tuning\n",
    "    10. Package and Deployment"
   ]
  },
  {
   "cell_type": "markdown",
   "metadata": {},
   "source": [
    "Don't forget, the machine learning process is often iterative, and can cycle back from Data Preprocessing through Predictions, many, many times."
   ]
  },
  {
   "cell_type": "markdown",
   "metadata": {},
   "source": [
    "### The first type of supervised machine learning we will learn is Classification.\n",
    "\n",
    "We will learn 5 different methods to perform Classification:\n",
    "\n",
    "- Logistic Regression\n",
    "- K-Nearest Neighbours\n",
    "- Support Vector Machines\n",
    "- Decision Trees\n",
    "- Random Forests\n",
    "\n",
    "The above workflow will be used to train estimators using all the above methods."
   ]
  },
  {
   "cell_type": "markdown",
   "metadata": {},
   "source": [
    "### The following are some free suggestions for recommended further reading in Classification:\n",
    "\n",
    "1. Pattern Recognition and Machine Learning, Bishop 2006\n",
    "  <br>https://www.microsoft.com/en-us/research/uploads/prod/2006/01/Bishop-Pattern-Recognition-and-Machine-Learning-2006.pdf\n",
    "2. An Introduction to Statistical Learning by Gareth et.al. Chapter 3 <br>https://www.statlearning.com/\n",
    "3. The Scikit-Learn Library <br> https://scikit-learn.org/stable/supervised_learning.html#supervised-learning\n",
    "  "
   ]
  },
  {
   "cell_type": "markdown",
   "metadata": {},
   "source": [
    "One demonstration of Roles in the Machine Learning Workflow:\n",
    "<img src = https://images.ctfassets.net/xjan103pcp94/2TRjAf2r2KU48nKRkV8Jav/ef15ac434cc89a1237c0e9c9ef72fb8c/Screen_Shot_2022-07-13_at_3.19.09_PM.png>"
   ]
  }
 ],
 "metadata": {
  "kernelspec": {
   "display_name": "Python [conda env:.conda-DeepLearning]",
   "language": "python",
   "name": "conda-env-.conda-DeepLearning-py"
  },
  "language_info": {
   "codemirror_mode": {
    "name": "ipython",
    "version": 3
   },
   "file_extension": ".py",
   "mimetype": "text/x-python",
   "name": "python",
   "nbconvert_exporter": "python",
   "pygments_lexer": "ipython3",
   "version": "3.8.20"
  }
 },
 "nbformat": 4,
 "nbformat_minor": 4
}
