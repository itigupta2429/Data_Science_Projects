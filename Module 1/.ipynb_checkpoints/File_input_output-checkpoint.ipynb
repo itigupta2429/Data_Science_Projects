{
 "cells": [
  {
   "cell_type": "markdown",
   "id": "84a3c838-f982-4676-b7b2-b9b3243d67b8",
   "metadata": {},
   "source": [
    "## Types of file I/O\n",
    "1) User input\n",
    "2) open files read/write/append\n",
    "3) open data from lib\n",
    "4) open data from files with libraries (Pandas)\n",
    "5) input outputfrom a database "
   ]
  },
  {
   "cell_type": "code",
   "execution_count": 4,
   "id": "d4d624ad-2eb9-43e0-af34-e6a26fac448b",
   "metadata": {},
   "outputs": [
    {
     "name": "stdin",
     "output_type": "stream",
     "text": [
      "Enter your number 4\n"
     ]
    },
    {
     "name": "stdout",
     "output_type": "stream",
     "text": [
      "4\n"
     ]
    }
   ],
   "source": [
    "## Reading keyboard input/ User input\n",
    "st=int(input(\"Enter your number\"))\n",
    "print(st)"
   ]
  },
  {
   "cell_type": "markdown",
   "id": "bc325c70-f8e1-4f76-aca3-ddb7e5080c28",
   "metadata": {},
   "source": [
    "## Opening and closing files"
   ]
  },
  {
   "cell_type": "code",
   "execution_count": 38,
   "id": "13ef923e-68dc-476e-a779-8600a31f18f1",
   "metadata": {},
   "outputs": [
    {
     "data": {
      "text/plain": [
       "<_io.TextIOWrapper name='first.txt' mode='r' encoding='UTF-8'>"
      ]
     },
     "execution_count": 38,
     "metadata": {},
     "output_type": "execute_result"
    }
   ],
   "source": [
    "my_file_name=\"first.txt\"\n",
    "file=open(my_file_name, \"r\")\n",
    "file"
   ]
  },
  {
   "cell_type": "code",
   "execution_count": 39,
   "id": "6015a956-2891-4215-a55f-8e7509a12c9d",
   "metadata": {},
   "outputs": [
    {
     "data": {
      "text/plain": [
       "False"
      ]
     },
     "execution_count": 39,
     "metadata": {},
     "output_type": "execute_result"
    }
   ],
   "source": [
    "file.closed"
   ]
  },
  {
   "cell_type": "code",
   "execution_count": 30,
   "id": "04b570d9-c99c-40dd-aced-1f99057ff32e",
   "metadata": {},
   "outputs": [
    {
     "name": "stdout",
     "output_type": "stream",
     "text": [
      "\"Wel\n"
     ]
    }
   ],
   "source": [
    "#print(file.read(4))"
   ]
  },
  {
   "cell_type": "code",
   "execution_count": 40,
   "id": "519a4875-ad8d-454d-8770-c98422ceb4fd",
   "metadata": {},
   "outputs": [],
   "source": [
    "file_1=file.readlines()"
   ]
  },
  {
   "cell_type": "code",
   "execution_count": 41,
   "id": "7a10def1-f861-4cff-b747-96efcf53fadb",
   "metadata": {},
   "outputs": [
    {
     "name": "stdout",
     "output_type": "stream",
     "text": [
      "['\"Welcom to Machine Learning Bootcamp\"\\n', '\"Hello\"']\n"
     ]
    }
   ],
   "source": [
    "print(file_1)"
   ]
  },
  {
   "cell_type": "code",
   "execution_count": 42,
   "id": "8468352c-b6e9-427a-a526-54189ce8b7ea",
   "metadata": {
    "jupyter": {
     "source_hidden": true
    }
   },
   "outputs": [
    {
     "name": "stdout",
     "output_type": "stream",
     "text": [
      "\"Welcom to Machine Learning Bootcamp\"\n",
      "\n",
      "\"Hello\"\n"
     ]
    }
   ],
   "source": [
    "for item in file_1:\n",
    "    print(item)"
   ]
  },
  {
   "cell_type": "code",
   "execution_count": 46,
   "id": "d5d83679-ba9e-43c3-a57c-f7995b815ee4",
   "metadata": {},
   "outputs": [
    {
     "data": {
      "text/plain": [
       "0"
      ]
     },
     "execution_count": 46,
     "metadata": {},
     "output_type": "execute_result"
    }
   ],
   "source": [
    "## How do i know where my cursor is?\n",
    "file.tell()"
   ]
  },
  {
   "cell_type": "code",
   "execution_count": 45,
   "id": "30f9e892-3d3d-4236-b0fb-b33339343ad1",
   "metadata": {},
   "outputs": [
    {
     "data": {
      "text/plain": [
       "0"
      ]
     },
     "execution_count": 45,
     "metadata": {},
     "output_type": "execute_result"
    }
   ],
   "source": [
    "##repositioning the index of the cursor\n",
    "file.seek(0,0)"
   ]
  },
  {
   "cell_type": "code",
   "execution_count": 47,
   "id": "58bea903-15d7-4865-a05b-e1a63d564b91",
   "metadata": {},
   "outputs": [],
   "source": [
    "file.close()"
   ]
  },
  {
   "cell_type": "markdown",
   "id": "263f8d2f-6d0f-4810-9968-4b6a20919810",
   "metadata": {},
   "source": [
    "## Wrting to the file"
   ]
  },
  {
   "cell_type": "code",
   "execution_count": 59,
   "id": "7aa5379d-192d-4418-a23d-1682995edcef",
   "metadata": {},
   "outputs": [
    {
     "data": {
      "text/plain": [
       "<_io.TextIOWrapper name='first.txt' mode='a' encoding='UTF-8'>"
      ]
     },
     "execution_count": 59,
     "metadata": {},
     "output_type": "execute_result"
    }
   ],
   "source": [
    "#not working correct this part\n",
    "my_file_name=\"first.txt\"\n",
    "file=open(my_file_name, \"a\")\n",
    "file"
   ]
  },
  {
   "cell_type": "code",
   "execution_count": 58,
   "id": "cca48529-0c2c-44d6-afef-c08ae1d97a63",
   "metadata": {},
   "outputs": [
    {
     "data": {
      "text/plain": [
       "25"
      ]
     },
     "execution_count": 58,
     "metadata": {},
     "output_type": "execute_result"
    }
   ],
   "source": [
    "file.write(\"This is our second week!\" + \"\\n\")"
   ]
  },
  {
   "cell_type": "raw",
   "id": "3d59511d-0e6c-43ad-ba2d-f1e84b1af12c",
   "metadata": {},
   "source": [
    "file.close()"
   ]
  },
  {
   "cell_type": "code",
   "execution_count": null,
   "id": "5694ab52-0076-43f8-8773-9c70a4e1097d",
   "metadata": {},
   "outputs": [],
   "source": []
  },
  {
   "cell_type": "code",
   "execution_count": null,
   "id": "97245b5a-488f-4f00-8693-aa529a6c0a5a",
   "metadata": {},
   "outputs": [],
   "source": [
    "####test"
   ]
  },
  {
   "cell_type": "code",
   "execution_count": null,
   "id": "0a6535fa-594d-4a13-b020-597d4b2625d4",
   "metadata": {},
   "outputs": [],
   "source": [
    " list_1 = [2, 7, 4, 6, 2]\n",
    "    list_2 = [1, 6, 3, 5, 1]\n",
    " \n",
    "    ## Type your code blow:\n",
    "    def calc_dot_product(my_list1, my_list2):\n",
    "        if len(my_list1) == len(my_list2):\n",
    "            for i in range(len(my_list1)):\n",
    "                dot_product = my_list1[i]*my_list2[i]\n",
    "        else:\n",
    "            print(\"The length of the 2 lists are not equal for the dot product\")\n",
    "       \n",
    "        return dot_product\n",
    " \n",
    " \n",
    "    # Example usage\n",
    "    \n",
    "    "
   ]
  },
  {
   "cell_type": "code",
   "execution_count": null,
   "id": "d05486f6-41a2-4041-9fe4-3aa836600f82",
   "metadata": {},
   "outputs": [],
   "source": [
    "result = calc_dot_product(list_1, list_2)\n",
    "    print(\"The Dot Product of these two lists is:\", result)"
   ]
  },
  {
   "cell_type": "code",
   "execution_count": null,
   "id": "8841e4c9-3884-4d66-80e0-9fd912138b11",
   "metadata": {},
   "outputs": [],
   "source": []
  }
 ],
 "metadata": {
  "kernelspec": {
   "display_name": "Python 3 (ipykernel)",
   "language": "python",
   "name": "python3"
  },
  "language_info": {
   "codemirror_mode": {
    "name": "ipython",
    "version": 3
   },
   "file_extension": ".py",
   "mimetype": "text/x-python",
   "name": "python",
   "nbconvert_exporter": "python",
   "pygments_lexer": "ipython3",
   "version": "3.12.7"
  }
 },
 "nbformat": 4,
 "nbformat_minor": 5
}
