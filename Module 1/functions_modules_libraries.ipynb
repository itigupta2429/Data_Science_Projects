{
 "cells": [
  {
   "cell_type": "markdown",
   "id": "eb46403f-f41b-461c-96fd-29c8c6a74e1b",
   "metadata": {},
   "source": [
    "## Functions"
   ]
  },
  {
   "cell_type": "code",
   "execution_count": 2,
   "id": "028df821-f729-4fbf-9755-50da58967c64",
   "metadata": {},
   "outputs": [],
   "source": [
    "# Define a function\n",
    "def HappyFunday():\n",
    "    print(\"Welcone to the fun day of the week\")"
   ]
  },
  {
   "cell_type": "code",
   "execution_count": 4,
   "id": "837630bb-70f1-4ec3-80b3-b2136a7d8172",
   "metadata": {},
   "outputs": [
    {
     "name": "stdout",
     "output_type": "stream",
     "text": [
      "Welcone to the fun day of the week\n"
     ]
    }
   ],
   "source": [
    "# Call the Function\n",
    "HappyFunday()"
   ]
  },
  {
   "cell_type": "code",
   "execution_count": 10,
   "id": "4f565b9e-f86b-4ca0-af16-bab7e5d48ad4",
   "metadata": {},
   "outputs": [],
   "source": [
    "def second_in_hour():\n",
    "    min=60\n",
    "    sec=60\n",
    "    return(min*sec)"
   ]
  },
  {
   "cell_type": "code",
   "execution_count": 13,
   "id": "8c83d15a-74e9-4b46-a4d7-a20980f50ba2",
   "metadata": {},
   "outputs": [
    {
     "name": "stdout",
     "output_type": "stream",
     "text": [
      "3600\n"
     ]
    }
   ],
   "source": [
    "numOfSecondsInHour=second_in_hour()\n",
    "print(numOfSecondsInHour)"
   ]
  },
  {
   "cell_type": "markdown",
   "id": "466d0708-4a83-4960-b1d7-60bf8bea8dee",
   "metadata": {},
   "source": [
    "## Types of arguments to a function\n",
    "1) Positional Arguments:Call the function using arguments in the order they appear in the function definition"
   ]
  },
  {
   "cell_type": "code",
   "execution_count": 14,
   "id": "13e8e16d-370c-4272-81f0-35405ea6f5fb",
   "metadata": {},
   "outputs": [],
   "source": [
    "def welcome(name, grade):\n",
    "    print(f\"Hello, {name} - welcome to grade {grade} !\")"
   ]
  },
  {
   "cell_type": "code",
   "execution_count": 16,
   "id": "bc255ed7-0d6a-425b-b079-ca7f9d15d585",
   "metadata": {},
   "outputs": [
    {
     "name": "stdout",
     "output_type": "stream",
     "text": [
      "Hello, Iti - welcome to grade Postdoc !\n"
     ]
    }
   ],
   "source": [
    "welcome(\"Iti\", \"Postdoc\")"
   ]
  },
  {
   "cell_type": "code",
   "execution_count": 21,
   "id": "5bca0fec-7d60-452c-bef6-0f60f1683dee",
   "metadata": {},
   "outputs": [
    {
     "name": "stdout",
     "output_type": "stream",
     "text": [
      "Hello, Iti - welcome to grade Postdoc !\n"
     ]
    }
   ],
   "source": [
    "# 2) Keyword Arguments: \n",
    "welcome(grade=\"Postdoc\", name =\"Iti\")"
   ]
  },
  {
   "cell_type": "code",
   "execution_count": 22,
   "id": "8e1afb75-e07b-49d6-8591-75a9bf517edc",
   "metadata": {},
   "outputs": [],
   "source": [
    "# 3) Default Arguments\n",
    "def welcome(name, grade=10):\n",
    "    print(f\"Hello, {name} - welcome to grade {grade} !\")"
   ]
  },
  {
   "cell_type": "code",
   "execution_count": 24,
   "id": "f36205ba-bc3c-4996-87f5-e95bee44bed5",
   "metadata": {},
   "outputs": [
    {
     "name": "stdout",
     "output_type": "stream",
     "text": [
      "Hello, Iti - welcome to grade 10 !\n",
      "Hello, Iti - welcome to grade Postdoc !\n"
     ]
    }
   ],
   "source": [
    "welcome(\"Iti\")\n",
    "#or \n",
    "welcome(\"Iti\", \"Postdoc\")"
   ]
  },
  {
   "cell_type": "code",
   "execution_count": 34,
   "id": "8bf64971-40df-4788-b9f4-59201a4e011d",
   "metadata": {},
   "outputs": [],
   "source": [
    "# 4) Variable length argument\n",
    "def multiply_numbers(*args):\n",
    "    total=1\n",
    "    for num in args:\n",
    "        total *= num\n",
    "        return total"
   ]
  },
  {
   "cell_type": "code",
   "execution_count": 38,
   "id": "d537d143-c5ac-4e35-9cd1-1d9575108826",
   "metadata": {},
   "outputs": [
    {
     "name": "stdout",
     "output_type": "stream",
     "text": [
      "2\n"
     ]
    }
   ],
   "source": [
    "result=multiply_numbers(2,2)\n",
    "print(result)"
   ]
  },
  {
   "cell_type": "code",
   "execution_count": 42,
   "id": "8853518f-14c5-4350-ac49-2931b85f20d6",
   "metadata": {},
   "outputs": [],
   "source": [
    "# 5) Keyword arguments\n",
    "def movie_func(**kwargs):\n",
    "    movies={}\n",
    "    for key , value in kwargs.items():\n",
    "        movies[key]=value\n",
    "        return movies"
   ]
  },
  {
   "cell_type": "code",
   "execution_count": 44,
   "id": "a834bd08-ef47-4aca-b902-bb1c38e578dc",
   "metadata": {},
   "outputs": [
    {
     "name": "stdout",
     "output_type": "stream",
     "text": [
      "{'movie': 'titanic'}\n"
     ]
    }
   ],
   "source": [
    "result=movie_func(movie=\"titanic\",year=1980, revenue=3600000)\n",
    "print(result)"
   ]
  },
  {
   "cell_type": "markdown",
   "id": "6b38c36b-3b16-4106-aaf6-404c2f026267",
   "metadata": {},
   "source": [
    "## Local and Global variable"
   ]
  },
  {
   "cell_type": "code",
   "execution_count": 4,
   "id": "1e984ad6-aff5-4e01-9f86-0b817c69ed1e",
   "metadata": {},
   "outputs": [
    {
     "name": "stdout",
     "output_type": "stream",
     "text": [
      "50\n"
     ]
    }
   ],
   "source": [
    "def multiply_two_numbers(a,b):\n",
    "    total=a*b\n",
    "    print(total)\n",
    "\n",
    "multiply_two_numbers(5,10) ## here total is the local variable that is present and specific only to this function"
   ]
  },
  {
   "cell_type": "code",
   "execution_count": 5,
   "id": "4f48a3fb-843d-4ecf-b69b-1d56234d24fd",
   "metadata": {},
   "outputs": [
    {
     "name": "stdout",
     "output_type": "stream",
     "text": [
      "50\n"
     ]
    }
   ],
   "source": [
    "my_total=multiply_two_numbers(5,10)\n",
    "my_total ## here my_total is the global variable"
   ]
  },
  {
   "cell_type": "code",
   "execution_count": null,
   "id": "a5132991-4b50-43d4-b29b-170bd458ab82",
   "metadata": {},
   "outputs": [],
   "source": []
  }
 ],
 "metadata": {
  "kernelspec": {
   "display_name": "Python 3 (ipykernel)",
   "language": "python",
   "name": "python3"
  },
  "language_info": {
   "codemirror_mode": {
    "name": "ipython",
    "version": 3
   },
   "file_extension": ".py",
   "mimetype": "text/x-python",
   "name": "python",
   "nbconvert_exporter": "python",
   "pygments_lexer": "ipython3",
   "version": "3.12.7"
  }
 },
 "nbformat": 4,
 "nbformat_minor": 5
}
