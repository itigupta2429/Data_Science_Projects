{
 "cells": [
  {
   "cell_type": "markdown",
   "id": "5e187cea-9f1b-4062-a58f-c1dac509cd3a",
   "metadata": {},
   "source": [
    "### If statements"
   ]
  },
  {
   "cell_type": "code",
   "execution_count": 2,
   "id": "f3347c1c-ad3d-40d6-a1b5-cd20f7214a70",
   "metadata": {},
   "outputs": [
    {
     "name": "stdout",
     "output_type": "stream",
     "text": [
      "wear jacket!!\n"
     ]
    }
   ],
   "source": [
    "weather =\"cold\"\n",
    "if weather == \"cold\":\n",
    "    print(\"wear jacket!!\")\n",
    "else:\n",
    "    print(\"put on a hat\")"
   ]
  },
  {
   "cell_type": "markdown",
   "id": "4cb9605a-3dbf-4fef-8bf4-84c6c8c6c4e8",
   "metadata": {},
   "source": [
    "## while loops"
   ]
  },
  {
   "cell_type": "code",
   "execution_count": 4,
   "id": "2df47f27-a108-4dc4-93e0-b25eb1e4e15d",
   "metadata": {},
   "outputs": [
    {
     "name": "stdout",
     "output_type": "stream",
     "text": [
      "0\n",
      "1\n",
      "2\n",
      "3\n",
      "4\n",
      "5\n",
      "6\n",
      "7\n",
      "8\n",
      "9\n",
      "done\n"
     ]
    }
   ],
   "source": [
    "i=0\n",
    "while i < 10:\n",
    "    print(i)\n",
    "    i +=1\n",
    "print(\"done\")"
   ]
  },
  {
   "cell_type": "code",
   "execution_count": 5,
   "id": "a5a7b8fb-c2cf-4026-acb2-cbe8081e117e",
   "metadata": {},
   "outputs": [],
   "source": [
    "my_list=[3,2,5,1,6,9]\n"
   ]
  },
  {
   "cell_type": "code",
   "execution_count": 6,
   "id": "35ee451e-a2ae-4d42-a163-82c8283043e5",
   "metadata": {},
   "outputs": [
    {
     "data": {
      "text/plain": [
       "[2]"
      ]
     },
     "execution_count": 6,
     "metadata": {},
     "output_type": "execute_result"
    }
   ],
   "source": [
    "my_list[1:2]"
   ]
  },
  {
   "cell_type": "code",
   "execution_count": 12,
   "id": "72ad7d9a-ed2c-4ecd-a02b-3f6317786240",
   "metadata": {},
   "outputs": [
    {
     "data": {
      "text/plain": [
       "range(1, 5)"
      ]
     },
     "execution_count": 12,
     "metadata": {},
     "output_type": "execute_result"
    }
   ],
   "source": [
    "range(1,5)"
   ]
  },
  {
   "cell_type": "code",
   "execution_count": 9,
   "id": "100a3ce1-5796-4c73-99ba-ac063fa0db9e",
   "metadata": {},
   "outputs": [
    {
     "name": "stdout",
     "output_type": "stream",
     "text": [
      "3 3\n",
      "3 2\n",
      "3 5\n",
      "3 1\n",
      "3 6\n",
      "3 9\n",
      "2 3\n",
      "2 2\n",
      "2 5\n",
      "2 1\n",
      "2 6\n",
      "2 9\n",
      "5 3\n",
      "5 2\n",
      "5 5\n",
      "5 1\n",
      "5 6\n",
      "5 9\n",
      "1 3\n",
      "1 2\n",
      "1 5\n",
      "1 1\n",
      "1 6\n",
      "1 9\n",
      "6 3\n",
      "6 2\n",
      "6 5\n",
      "6 1\n",
      "6 6\n",
      "6 9\n",
      "9 3\n",
      "9 2\n",
      "9 5\n",
      "9 1\n",
      "9 6\n",
      "9 9\n"
     ]
    }
   ],
   "source": [
    "for i in range(len(my_list)):\n",
    "        for j in range(len(my_list)):\n",
    "            print(my_list[i],my_list[j]);"
   ]
  }
 ],
 "metadata": {
  "kernelspec": {
   "display_name": "Python 3 (ipykernel)",
   "language": "python",
   "name": "python3"
  },
  "language_info": {
   "codemirror_mode": {
    "name": "ipython",
    "version": 3
   },
   "file_extension": ".py",
   "mimetype": "text/x-python",
   "name": "python",
   "nbconvert_exporter": "python",
   "pygments_lexer": "ipython3",
   "version": "3.12.7"
  }
 },
 "nbformat": 4,
 "nbformat_minor": 5
}
