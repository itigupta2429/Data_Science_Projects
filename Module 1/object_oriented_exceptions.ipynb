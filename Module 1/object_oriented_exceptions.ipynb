{
 "cells": [
  {
   "cell_type": "markdown",
   "id": "7de77412-f9be-4a87-bd0c-f5b3ff3c0c8d",
   "metadata": {},
   "source": [
    "## creating a class"
   ]
  },
  {
   "cell_type": "code",
   "execution_count": 22,
   "id": "91bb7b5e-eb5f-41ee-8da6-5ed746e18f26",
   "metadata": {},
   "outputs": [],
   "source": [
    "class car:\n",
    "    def __init__(self,make,model):\n",
    "        self.make=make\n",
    "        self.model=model\n",
    "    def description(self):\n",
    "        print(f\"This is a {self.make}{self.model}\")"
   ]
  },
  {
   "cell_type": "code",
   "execution_count": 10,
   "id": "60e81c36-a8db-41cf-8f35-6a2c811ee55d",
   "metadata": {},
   "outputs": [],
   "source": [
    "car1=car(\"Dodge\",\"Caravan\")"
   ]
  },
  {
   "cell_type": "code",
   "execution_count": 11,
   "id": "d025d51c-7839-43ae-bbdf-f7d659d45098",
   "metadata": {},
   "outputs": [
    {
     "name": "stdout",
     "output_type": "stream",
     "text": [
      "This is a DodgeCaravan\n"
     ]
    }
   ],
   "source": [
    "car1.description()"
   ]
  },
  {
   "cell_type": "code",
   "execution_count": 12,
   "id": "45a2d8fc-6b0c-4516-95bb-43e26f92e36f",
   "metadata": {},
   "outputs": [],
   "source": [
    "del(car1)"
   ]
  },
  {
   "cell_type": "markdown",
   "id": "cf75b24a-9237-4aba-8c03-0fff47e63947",
   "metadata": {},
   "source": [
    "## Class inheritance"
   ]
  },
  {
   "cell_type": "code",
   "execution_count": 26,
   "id": "e9eae629-9ed4-4321-ba5d-0b6f89a2a416",
   "metadata": {},
   "outputs": [],
   "source": [
    "class ElectricCar(car):\n",
    "    def __init__(self,make,model,battery_capacity):\n",
    "        super().__init__(make,model)\n",
    "        self.battery_capacity=battery_capacity\n",
    "    def display_battery(self):\n",
    "        print(f\"This is a {self.battery_capacity}KWh\")"
   ]
  },
  {
   "cell_type": "code",
   "execution_count": 27,
   "id": "6c0fb2d2-bd58-4fc8-a3e5-1985f8ec3bc8",
   "metadata": {},
   "outputs": [],
   "source": [
    "car2=ElectricCar(\"Tesla\",\"Model S\", 50)"
   ]
  },
  {
   "cell_type": "code",
   "execution_count": 28,
   "id": "b904aac4-cf42-4c16-9ebd-f02162e63ee4",
   "metadata": {},
   "outputs": [
    {
     "data": {
      "text/plain": [
       "50"
      ]
     },
     "execution_count": 28,
     "metadata": {},
     "output_type": "execute_result"
    }
   ],
   "source": [
    "car2.battery_capacity"
   ]
  },
  {
   "cell_type": "markdown",
   "id": "87b93d5c-cd40-48f2-9f1f-93786efa5d99",
   "metadata": {},
   "source": [
    "## Data hiding"
   ]
  },
  {
   "cell_type": "code",
   "execution_count": 30,
   "id": "b9495157-9e45-4809-9f4d-d120af822cc9",
   "metadata": {},
   "outputs": [],
   "source": [
    "##Protected attributes\n",
    "class Car:\n",
    "    def __init__(self,make,model,MSRP):\n",
    "        self.make=make\n",
    "        self.model=model\n",
    "        self.__MSRP=MSRP ##protected\n",
    "    def get_msrp(self):\n",
    "        return self.__MSRP"
   ]
  },
  {
   "cell_type": "code",
   "execution_count": 32,
   "id": "50d3070e-3d75-4c6f-b399-e4626dcc2f18",
   "metadata": {},
   "outputs": [
    {
     "name": "stdout",
     "output_type": "stream",
     "text": [
      "50000\n"
     ]
    }
   ],
   "source": [
    "my_car=Car(\"Tesla\", \"Model S\", 50000)\n",
    "print(my_car.get_msrp())"
   ]
  },
  {
   "cell_type": "code",
   "execution_count": 44,
   "id": "7b03d117-0b3d-4f11-8f08-8983352cc7ca",
   "metadata": {},
   "outputs": [],
   "source": [
    "##Class Attributes with defualt values\n",
    "class Car:\n",
    "    country_of_origin=\"USA\"\n",
    "    def __init__(self,make,model):\n",
    "        self.make=make\n",
    "        self.model=model\n",
    "    def description(self):\n",
    "        print(f\"This is a {self.make} {self.model} {self.country_of_origin}\")"
   ]
  },
  {
   "cell_type": "code",
   "execution_count": 45,
   "id": "dc2f42e6-c8af-4278-86b7-b73feec2bb37",
   "metadata": {},
   "outputs": [
    {
     "name": "stdout",
     "output_type": "stream",
     "text": [
      "This is a Tesla ModelS USA\n"
     ]
    }
   ],
   "source": [
    "my_car=Car(\"Tesla\",\"ModelS\")\n",
    "my_car.description()"
   ]
  },
  {
   "cell_type": "markdown",
   "id": "1c9e5c3d-f206-40c7-ba52-bdc7c96596c7",
   "metadata": {},
   "source": [
    "## Exceptions"
   ]
  },
  {
   "cell_type": "code",
   "execution_count": null,
   "id": "a1741b8c-6771-4769-bd4f-d4c6842c2ed5",
   "metadata": {},
   "outputs": [],
   "source": []
  },
  {
   "cell_type": "code",
   "execution_count": null,
   "id": "e7434cd0-ef4d-42e9-a75e-0c3fe7f1d9ec",
   "metadata": {},
   "outputs": [],
   "source": []
  },
  {
   "cell_type": "code",
   "execution_count": null,
   "id": "ae063398-32c4-4139-aad0-9981524f1cec",
   "metadata": {},
   "outputs": [],
   "source": []
  },
  {
   "cell_type": "code",
   "execution_count": null,
   "id": "52c3b176-e7a7-42fb-9a25-8175e3d7d562",
   "metadata": {},
   "outputs": [],
   "source": []
  }
 ],
 "metadata": {
  "kernelspec": {
   "display_name": "Python 3 (ipykernel)",
   "language": "python",
   "name": "python3"
  },
  "language_info": {
   "codemirror_mode": {
    "name": "ipython",
    "version": 3
   },
   "file_extension": ".py",
   "mimetype": "text/x-python",
   "name": "python",
   "nbconvert_exporter": "python",
   "pygments_lexer": "ipython3",
   "version": "3.12.7"
  }
 },
 "nbformat": 4,
 "nbformat_minor": 5
}
